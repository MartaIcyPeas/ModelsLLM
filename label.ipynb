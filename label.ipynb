{
 "cells": [
  {
   "cell_type": "code",
   "execution_count": 1,
   "metadata": {},
   "outputs": [],
   "source": [
    "import pandas as pd \n",
    "import numpy as np"
   ]
  },
  {
   "cell_type": "code",
   "execution_count": 3,
   "metadata": {},
   "outputs": [],
   "source": [
    "d = pd.read_csv(\"fr_aides.csv\", delimiter=\";\")"
   ]
  },
  {
   "cell_type": "code",
   "execution_count": 4,
   "metadata": {},
   "outputs": [],
   "source": [
    "k = 0\n",
    "label = dict()\n",
    "\n",
    "for e in d[\"aid\"].tolist():\n",
    "    if e not in label :\n",
    "        label[e] = k\n",
    "        k += 1\n",
    "\n",
    "def lab_def(s):\n",
    "    return label[s]\n"
   ]
  },
  {
   "cell_type": "code",
   "execution_count": 5,
   "metadata": {},
   "outputs": [
    {
     "data": {
      "text/html": [
       "<div>\n",
       "<style scoped>\n",
       "    .dataframe tbody tr th:only-of-type {\n",
       "        vertical-align: middle;\n",
       "    }\n",
       "\n",
       "    .dataframe tbody tr th {\n",
       "        vertical-align: top;\n",
       "    }\n",
       "\n",
       "    .dataframe thead th {\n",
       "        text-align: right;\n",
       "    }\n",
       "</style>\n",
       "<table border=\"1\" class=\"dataframe\">\n",
       "  <thead>\n",
       "    <tr style=\"text-align: right;\">\n",
       "      <th></th>\n",
       "      <th>aide_href</th>\n",
       "      <th>tag</th>\n",
       "      <th>aid</th>\n",
       "      <th>projets</th>\n",
       "      <th>label</th>\n",
       "    </tr>\n",
       "  </thead>\n",
       "  <tbody>\n",
       "    <tr>\n",
       "      <th>0</th>\n",
       "      <td>https://les-aides.fr/aide/cUFf3w/ddfip/frr-exo...</td>\n",
       "      <td>Allègement des charges fiscales</td>\n",
       "      <td>FRR : exonération d'impôt sur les bénéfices</td>\n",
       "      <td>Les entreprises créées ou reprises en zone Fra...</td>\n",
       "      <td>0</td>\n",
       "    </tr>\n",
       "    <tr>\n",
       "      <th>1</th>\n",
       "      <td>https://les-aides.fr/aide/RjNf3w/region-nouvel...</td>\n",
       "      <td>Subvention</td>\n",
       "      <td>Aide à l'hôtellerie indépendante</td>\n",
       "      <td>Accompagner les projets de développement d'hôt...</td>\n",
       "      <td>1</td>\n",
       "    </tr>\n",
       "    <tr>\n",
       "      <th>2</th>\n",
       "      <td>https://les-aides.fr/aide/RjNv3w/region-nouvel...</td>\n",
       "      <td>Subvention</td>\n",
       "      <td>Aide à l'hôtellerie de plein air indépendante</td>\n",
       "      <td>Accompagner les projets de développement de ca...</td>\n",
       "      <td>2</td>\n",
       "    </tr>\n",
       "    <tr>\n",
       "      <th>3</th>\n",
       "      <td>https://les-aides.fr/aide/cjmP3w/region-nouvel...</td>\n",
       "      <td>Subvention</td>\n",
       "      <td>Soutien aux hébergements - Gîtes d'étape</td>\n",
       "      <td>Soutenir la création ou la modernisation de gî...</td>\n",
       "      <td>3</td>\n",
       "    </tr>\n",
       "    <tr>\n",
       "      <th>4</th>\n",
       "      <td>https://les-aides.fr/aide/cRWf3w/region-nouvel...</td>\n",
       "      <td>Prise en charge des coûts</td>\n",
       "      <td>Objectif transmission TPE</td>\n",
       "      <td>Favoriser la transmission des entreprises en N...</td>\n",
       "      <td>4</td>\n",
       "    </tr>\n",
       "  </tbody>\n",
       "</table>\n",
       "</div>"
      ],
      "text/plain": [
       "                                           aide_href  \\\n",
       "0  https://les-aides.fr/aide/cUFf3w/ddfip/frr-exo...   \n",
       "1  https://les-aides.fr/aide/RjNf3w/region-nouvel...   \n",
       "2  https://les-aides.fr/aide/RjNv3w/region-nouvel...   \n",
       "3  https://les-aides.fr/aide/cjmP3w/region-nouvel...   \n",
       "4  https://les-aides.fr/aide/cRWf3w/region-nouvel...   \n",
       "\n",
       "                               tag  \\\n",
       "0  Allègement des charges fiscales   \n",
       "1                       Subvention   \n",
       "2                       Subvention   \n",
       "3                       Subvention   \n",
       "4        Prise en charge des coûts   \n",
       "\n",
       "                                             aid  \\\n",
       "0    FRR : exonération d'impôt sur les bénéfices   \n",
       "1               Aide à l'hôtellerie indépendante   \n",
       "2  Aide à l'hôtellerie de plein air indépendante   \n",
       "3       Soutien aux hébergements - Gîtes d'étape   \n",
       "4                      Objectif transmission TPE   \n",
       "\n",
       "                                             projets  label  \n",
       "0  Les entreprises créées ou reprises en zone Fra...      0  \n",
       "1  Accompagner les projets de développement d'hôt...      1  \n",
       "2  Accompagner les projets de développement de ca...      2  \n",
       "3  Soutenir la création ou la modernisation de gî...      3  \n",
       "4  Favoriser la transmission des entreprises en N...      4  "
      ]
     },
     "execution_count": 5,
     "metadata": {},
     "output_type": "execute_result"
    }
   ],
   "source": [
    "d['label'] = d['aid'].apply(lab_def)\n",
    "\n",
    "d.head()"
   ]
  },
  {
   "cell_type": "code",
   "execution_count": 6,
   "metadata": {},
   "outputs": [],
   "source": [
    "d.to_csv('frAides.csv', index=False)"
   ]
  }
 ],
 "metadata": {
  "kernelspec": {
   "display_name": "base",
   "language": "python",
   "name": "python3"
  },
  "language_info": {
   "codemirror_mode": {
    "name": "ipython",
    "version": 3
   },
   "file_extension": ".py",
   "mimetype": "text/x-python",
   "name": "python",
   "nbconvert_exporter": "python",
   "pygments_lexer": "ipython3",
   "version": "3.11.3"
  },
  "orig_nbformat": 4
 },
 "nbformat": 4,
 "nbformat_minor": 2
}

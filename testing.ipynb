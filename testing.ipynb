{
 "cells": [
  {
   "cell_type": "code",
   "execution_count": 46,
   "metadata": {},
   "outputs": [
    {
     "name": "stderr",
     "output_type": "stream",
     "text": [
      "/var/folders/k9/89sz9rmn25s78pr1yz7ytdz40000gn/T/ipykernel_5821/1068818993.py:9: FutureWarning: The error_bad_lines argument has been deprecated and will be removed in a future version. Use on_bad_lines in the future.\n",
      "\n",
      "\n",
      "  df = pd.read_csv(file_path, sep=';', error_bad_lines=False)\n"
     ]
    },
    {
     "name": "stdout",
     "output_type": "stream",
     "text": [
      "Test prediction for input 'Accompagner les projets de développement d'hôtellerie indépendante': Subvention\n",
      "{'accuracy': 0.983991462113127, 'precision': 0.9799371652218385, 'recall': 0.983991462113127, 'f1': 0.9794458546179237}\n"
     ]
    },
    {
     "name": "stderr",
     "output_type": "stream",
     "text": [
      "/Users/martateodoratrales/anaconda3/lib/python3.11/site-packages/sklearn/metrics/_classification.py:1344: UndefinedMetricWarning: Precision and F-score are ill-defined and being set to 0.0 in labels with no predicted samples. Use `zero_division` parameter to control this behavior.\n",
      "  _warn_prf(average, modifier, msg_start, len(result))\n"
     ]
    }
   ],
   "source": [
    "import json\n",
    "from sklearn.metrics import accuracy_score, precision_recall_fscore_support\n",
    "import torch\n",
    "from transformers import AutoTokenizer, AutoModelForSequenceClassification\n",
    "import pandas as pd\n",
    "\n",
    "# Load your dataset\n",
    "file_path = 'fr_aides.csv'\n",
    "df = pd.read_csv(file_path, sep=';', error_bad_lines=False)\n",
    "\n",
    "# Encode string labels to integers\n",
    "tag_to_label = {tag: idx for idx, tag in enumerate(df['tag'].unique())}\n",
    "df['labels'] = df['tag'].map(tag_to_label)\n",
    "\n",
    "# Save the mapping to a JSON file\n",
    "with open('tag_to_label.json', 'w') as f:\n",
    "    json.dump(tag_to_label, f)\n",
    "\n",
    "# Load the mapping from the JSON file\n",
    "with open('tag_to_label.json', 'r') as f:\n",
    "    tag_to_label = json.load(f)\n",
    "\n",
    "label_to_tag = {v: k for k, v in tag_to_label.items()}\n",
    "\n",
    "# Load the model and tokenizer\n",
    "model_name = \"MartaTT/model11epochs\"\n",
    "tokenizer = AutoTokenizer.from_pretrained(model_name)\n",
    "model = AutoModelForSequenceClassification.from_pretrained(model_name)\n",
    "\n",
    "device = torch.device('cpu')\n",
    "model.to(device)\n",
    "\n",
    "# Test if the model is loaded correctly by making a single prediction\n",
    "test_input = \"Accompagner les projets de développement d'hôtellerie indépendante\"\n",
    "inputs = tokenizer(test_input, return_tensors='pt', padding=True, truncation=True)\n",
    "outputs = model(**inputs)\n",
    "predictions = torch.argmax(outputs.logits, dim=1)\n",
    "test_label = label_to_tag[predictions.item()]\n",
    "print(f\"Test prediction for input '{test_input}': {test_label}\")\n",
    "\n",
    "def predict(text):\n",
    "    inputs = tokenizer(text, return_tensors='pt', padding=True, truncation=True)\n",
    "    outputs = model(**inputs)\n",
    "    predictions = torch.argmax(outputs.logits, dim=1)\n",
    "    text_label = label_to_tag[predictions.item()]\n",
    "    return text_label\n",
    "\n",
    "def test_model(texts, true_labels):\n",
    "    predicted_labels = [predict(text) for text in texts]\n",
    "    accuracy = accuracy_score(true_labels, predicted_labels)\n",
    "    precision, recall, f1, _ = precision_recall_fscore_support(true_labels, predicted_labels, average='weighted')\n",
    "    return {\n",
    "        'accuracy': accuracy,\n",
    "        'precision': precision,\n",
    "        'recall': recall,\n",
    "        'f1': f1\n",
    "    }\n",
    "\n",
    "test_texts = df['projets'].tolist()\n",
    "true_labels = df['tag'].tolist()\n",
    "\n",
    "results = test_model(test_texts, true_labels)\n",
    "print(results)\n"
   ]
  },
  {
   "cell_type": "code",
   "execution_count": null,
   "metadata": {},
   "outputs": [],
   "source": []
  }
 ],
 "metadata": {
  "kernelspec": {
   "display_name": "base",
   "language": "python",
   "name": "python3"
  },
  "language_info": {
   "codemirror_mode": {
    "name": "ipython",
    "version": 3
   },
   "file_extension": ".py",
   "mimetype": "text/x-python",
   "name": "python",
   "nbconvert_exporter": "python",
   "pygments_lexer": "ipython3",
   "version": "3.11.3"
  },
  "orig_nbformat": 4
 },
 "nbformat": 4,
 "nbformat_minor": 2
}
